{
 "cells": [
  {
   "cell_type": "code",
   "execution_count": 1,
   "id": "d1056d2e",
   "metadata": {},
   "outputs": [
    {
     "name": "stdout",
     "output_type": "stream",
     "text": [
      "Hello,World!\n"
     ]
    }
   ],
   "source": [
    "# Task1\n",
    "# Print Hello,World!\n",
    "\n",
    "print('Hello,World!')\n",
    "\n"
   ]
  },
  {
   "cell_type": "code",
   "execution_count": 2,
   "id": "157936a5",
   "metadata": {},
   "outputs": [
    {
     "name": "stdout",
     "output_type": "stream",
     "text": [
      "Enter any number: 5\n",
      "Weird\n"
     ]
    }
   ],
   "source": [
    "# Task2\n",
    "# Given an integer, , perform the following conditional actions:\n",
    "# If  n is odd, print Weird\n",
    "# If  n is even and in the inclusive range of 2 to 5 , print Not Weird\n",
    "# If  n is even and in the inclusive range of 6 to 20 , print Weird\n",
    "# If  n is even and greater than 20 , print Not Weird\n",
    "\n",
    "n = int(input('Enter any number: '))\n",
    "if n % 2 == 0:\n",
    "    if n in range(2,6):\n",
    "        print(\"Not Weird\")\n",
    "\n",
    "    elif n in range(6,21):\n",
    "        print(\"Weird\")\n",
    "\n",
    "    elif n > 20:\n",
    "        print(\"Not Weird\")\n",
    "else:\n",
    "    print(\"Weird\")"
   ]
  },
  {
   "cell_type": "code",
   "execution_count": 3,
   "id": "5f0be874",
   "metadata": {},
   "outputs": [
    {
     "name": "stdout",
     "output_type": "stream",
     "text": [
      "Enter a number: 4\n",
      "Enter a number: 6\n",
      "10\n",
      "-2\n",
      "24\n"
     ]
    }
   ],
   "source": [
    "# Task3\n",
    "# The provided code stub reads two integers from STDIN,  a and b . Add code to print three lines where:\n",
    "# The first line contains the sum of the two numbers.\n",
    "# The second line contains the difference of the two numbers (first - second).\n",
    "# The third line contains the product of the two numbers.\n",
    "\n",
    "a=int(input('Enter a number: '))\n",
    "b=int(input('Enter a number: '))\n",
    "\n",
    "\n",
    "print((a + b), (a - b), (a * b), sep='\\n')\n",
    "\n",
    "\n"
   ]
  },
  {
   "cell_type": "code",
   "execution_count": 4,
   "id": "697f6c12",
   "metadata": {},
   "outputs": [
    {
     "name": "stdout",
     "output_type": "stream",
     "text": [
      "Enter a number: 3\n",
      "Enter a number: 2\n",
      "1\n",
      "1.5\n"
     ]
    }
   ],
   "source": [
    "# The provided code stub reads two integers,  a and b , from STDIN.\n",
    "\n",
    "# Add logic to print two lines. The first line should contain the result of integer division,  a//b . \n",
    "# The second line should contain the result of float division, a /b .\n",
    "\n",
    "# No rounding or formatting is necessary\n",
    "\n",
    "a=int(input('Enter a number: '))\n",
    "b=int(input('Enter a number: '))\n",
    "\n",
    "print(a//b)\n",
    "print(a/b)"
   ]
  },
  {
   "cell_type": "code",
   "execution_count": 5,
   "id": "b92f2a39",
   "metadata": {},
   "outputs": [
    {
     "name": "stdout",
     "output_type": "stream",
     "text": [
      "Enter an integer n : 4\n",
      "0\n",
      "1\n",
      "4\n",
      "9\n"
     ]
    },
    {
     "data": {
      "text/plain": [
       "[None, None, None, None]"
      ]
     },
     "execution_count": 5,
     "metadata": {},
     "output_type": "execute_result"
    }
   ],
   "source": [
    "# The provided code stub reads and integer,n , from STDIN. For all non-negative integers , i<n print i*i.\n",
    "\n",
    "n=int(input('Enter an integer n : '))\n",
    "[print(i**2) for i in range(n)]"
   ]
  },
  {
   "cell_type": "code",
   "execution_count": 6,
   "id": "85ae23d8",
   "metadata": {},
   "outputs": [
    {
     "name": "stdout",
     "output_type": "stream",
     "text": [
      "Enter a year: 1993\n",
      "False\n"
     ]
    }
   ],
   "source": [
    "# An extra day is added to the calendar almost every four years as February 29, and the day is called a leap day. \n",
    "# It corrects the calendar for the fact that our planet takes approximately 365.25 days to orbit the sun. \n",
    "# A leap year contains a leap day.\n",
    "\n",
    "# In the Gregorian calendar, three conditions are used to identify leap years:\n",
    "\n",
    "# The year can be evenly divided by 4, is a leap year, unless:\n",
    "# The year can be evenly divided by 100, it is NOT a leap year, unless:\n",
    "# The year is also evenly divisible by 400. Then it is a leap year.\n",
    "# This means that in the Gregorian calendar, the years 2000 and 2400 are leap years,\n",
    "# while 1800, 1900, 2100, 2200, 2300 and 2500 are NOT leap years\n",
    "\n",
    "# Task\n",
    "\n",
    "# Given a year, determine whether it is a leap year. If it is a leap year, return the Boolean True, otherwise return False.\n",
    "\n",
    "# Note that the code stub provided reads from STDIN and passes arguments to the is_leap function. It is only necessary to complete the is_leap function.\n",
    "\n",
    "def is_leap(year):\n",
    "    is_leap = False\n",
    "    \n",
    "    if (year % 100 == 0) and (year % 400 != 0):\n",
    "        is_leap = False\n",
    "    elif (year % 4 == 0):\n",
    "        is_leap = True\n",
    "    return is_leap\n",
    "\n",
    "year=int(input('Enter a year: '))\n",
    "print(is_leap(year))\n"
   ]
  },
  {
   "cell_type": "code",
   "execution_count": 7,
   "id": "4a066b53",
   "metadata": {},
   "outputs": [
    {
     "name": "stdout",
     "output_type": "stream",
     "text": [
      "Enter a number: 8\n",
      "12345678"
     ]
    }
   ],
   "source": [
    "# The included code stub will read an integer,n , from STDIN.\n",
    "\n",
    "# Without using any string methods, try to print the following:\n",
    "# 1,2,3,...n\n",
    "\n",
    "# Note that \"...\" represents the consecutive values in between.\n",
    "\n",
    "n = int(input('Enter a number: '))\n",
    "\n",
    "for i in range(1, n+1):\n",
    "    print(i, end='')\n",
    "    "
   ]
  }
 ],
 "metadata": {
  "kernelspec": {
   "display_name": "Python 3",
   "language": "python",
   "name": "python3"
  },
  "language_info": {
   "codemirror_mode": {
    "name": "ipython",
    "version": 3
   },
   "file_extension": ".py",
   "mimetype": "text/x-python",
   "name": "python",
   "nbconvert_exporter": "python",
   "pygments_lexer": "ipython3",
   "version": "3.6.10"
  }
 },
 "nbformat": 4,
 "nbformat_minor": 5
}
